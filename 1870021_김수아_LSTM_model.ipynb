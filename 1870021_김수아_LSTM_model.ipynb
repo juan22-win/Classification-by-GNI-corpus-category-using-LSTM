{
 "cells": [
  {
   "cell_type": "code",
   "execution_count": 1,
   "metadata": {},
   "outputs": [
    {
     "name": "stderr",
     "output_type": "stream",
     "text": [
      "Using TensorFlow backend.\n",
      "C:\\Users\\sua91\\anaconda3\\lib\\site-packages\\tensorflow\\python\\framework\\dtypes.py:516: FutureWarning: Passing (type, 1) or '1type' as a synonym of type is deprecated; in a future version of numpy, it will be understood as (type, (1,)) / '(1,)type'.\n",
      "  _np_qint8 = np.dtype([(\"qint8\", np.int8, 1)])\n",
      "C:\\Users\\sua91\\anaconda3\\lib\\site-packages\\tensorflow\\python\\framework\\dtypes.py:517: FutureWarning: Passing (type, 1) or '1type' as a synonym of type is deprecated; in a future version of numpy, it will be understood as (type, (1,)) / '(1,)type'.\n",
      "  _np_quint8 = np.dtype([(\"quint8\", np.uint8, 1)])\n",
      "C:\\Users\\sua91\\anaconda3\\lib\\site-packages\\tensorflow\\python\\framework\\dtypes.py:518: FutureWarning: Passing (type, 1) or '1type' as a synonym of type is deprecated; in a future version of numpy, it will be understood as (type, (1,)) / '(1,)type'.\n",
      "  _np_qint16 = np.dtype([(\"qint16\", np.int16, 1)])\n",
      "C:\\Users\\sua91\\anaconda3\\lib\\site-packages\\tensorflow\\python\\framework\\dtypes.py:519: FutureWarning: Passing (type, 1) or '1type' as a synonym of type is deprecated; in a future version of numpy, it will be understood as (type, (1,)) / '(1,)type'.\n",
      "  _np_quint16 = np.dtype([(\"quint16\", np.uint16, 1)])\n",
      "C:\\Users\\sua91\\anaconda3\\lib\\site-packages\\tensorflow\\python\\framework\\dtypes.py:520: FutureWarning: Passing (type, 1) or '1type' as a synonym of type is deprecated; in a future version of numpy, it will be understood as (type, (1,)) / '(1,)type'.\n",
      "  _np_qint32 = np.dtype([(\"qint32\", np.int32, 1)])\n",
      "C:\\Users\\sua91\\anaconda3\\lib\\site-packages\\tensorflow\\python\\framework\\dtypes.py:525: FutureWarning: Passing (type, 1) or '1type' as a synonym of type is deprecated; in a future version of numpy, it will be understood as (type, (1,)) / '(1,)type'.\n",
      "  np_resource = np.dtype([(\"resource\", np.ubyte, 1)])\n",
      "C:\\Users\\sua91\\anaconda3\\lib\\site-packages\\tensorboard\\compat\\tensorflow_stub\\dtypes.py:541: FutureWarning: Passing (type, 1) or '1type' as a synonym of type is deprecated; in a future version of numpy, it will be understood as (type, (1,)) / '(1,)type'.\n",
      "  _np_qint8 = np.dtype([(\"qint8\", np.int8, 1)])\n",
      "C:\\Users\\sua91\\anaconda3\\lib\\site-packages\\tensorboard\\compat\\tensorflow_stub\\dtypes.py:542: FutureWarning: Passing (type, 1) or '1type' as a synonym of type is deprecated; in a future version of numpy, it will be understood as (type, (1,)) / '(1,)type'.\n",
      "  _np_quint8 = np.dtype([(\"quint8\", np.uint8, 1)])\n",
      "C:\\Users\\sua91\\anaconda3\\lib\\site-packages\\tensorboard\\compat\\tensorflow_stub\\dtypes.py:543: FutureWarning: Passing (type, 1) or '1type' as a synonym of type is deprecated; in a future version of numpy, it will be understood as (type, (1,)) / '(1,)type'.\n",
      "  _np_qint16 = np.dtype([(\"qint16\", np.int16, 1)])\n",
      "C:\\Users\\sua91\\anaconda3\\lib\\site-packages\\tensorboard\\compat\\tensorflow_stub\\dtypes.py:544: FutureWarning: Passing (type, 1) or '1type' as a synonym of type is deprecated; in a future version of numpy, it will be understood as (type, (1,)) / '(1,)type'.\n",
      "  _np_quint16 = np.dtype([(\"quint16\", np.uint16, 1)])\n",
      "C:\\Users\\sua91\\anaconda3\\lib\\site-packages\\tensorboard\\compat\\tensorflow_stub\\dtypes.py:545: FutureWarning: Passing (type, 1) or '1type' as a synonym of type is deprecated; in a future version of numpy, it will be understood as (type, (1,)) / '(1,)type'.\n",
      "  _np_qint32 = np.dtype([(\"qint32\", np.int32, 1)])\n",
      "C:\\Users\\sua91\\anaconda3\\lib\\site-packages\\tensorboard\\compat\\tensorflow_stub\\dtypes.py:550: FutureWarning: Passing (type, 1) or '1type' as a synonym of type is deprecated; in a future version of numpy, it will be understood as (type, (1,)) / '(1,)type'.\n",
      "  np_resource = np.dtype([(\"resource\", np.ubyte, 1)])\n"
     ]
    }
   ],
   "source": [
    "import os, numpy as np\n",
    "import pandas as pd\n",
    "from keras.preprocessing.text import Tokenizer\n",
    "from keras.preprocessing.sequence import pad_sequences\n",
    "from keras.preprocessing import sequence\n",
    "from keras.models import Sequential\n",
    "from keras.layers import Dense, Embedding, LSTM, Dropout\n",
    "from keras.utils import np_utils\n",
    "from keras.callbacks import EarlyStopping, ModelCheckpoint\n",
    "from sklearn.model_selection import train_test_split\n",
    "import matplotlib.pyplot as plt\n",
    "import tensorflow as tf"
   ]
  },
  {
   "cell_type": "code",
   "execution_count": 2,
   "metadata": {},
   "outputs": [],
   "source": [
    "data = pd.read_csv('dataset.csv', encoding = 'utf8')"
   ]
  },
  {
   "cell_type": "code",
   "execution_count": 3,
   "metadata": {},
   "outputs": [
    {
     "name": "stdout",
     "output_type": "stream",
     "text": [
      "The number of data:  301\n"
     ]
    }
   ],
   "source": [
    "print('The number of data: ', len(data))"
   ]
  },
  {
   "cell_type": "code",
   "execution_count": 4,
   "metadata": {},
   "outputs": [],
   "source": [
    "categories = ['1', '2', '3']\n",
    "nb_classes = len(categories)"
   ]
  },
  {
   "cell_type": "code",
   "execution_count": 5,
   "metadata": {},
   "outputs": [
    {
     "data": {
      "text/html": [
       "<div>\n",
       "<style scoped>\n",
       "    .dataframe tbody tr th:only-of-type {\n",
       "        vertical-align: middle;\n",
       "    }\n",
       "\n",
       "    .dataframe tbody tr th {\n",
       "        vertical-align: top;\n",
       "    }\n",
       "\n",
       "    .dataframe thead th {\n",
       "        text-align: right;\n",
       "    }\n",
       "</style>\n",
       "<table border=\"1\" class=\"dataframe\">\n",
       "  <thead>\n",
       "    <tr style=\"text-align: right;\">\n",
       "      <th></th>\n",
       "      <th>text</th>\n",
       "      <th>type</th>\n",
       "    </tr>\n",
       "  </thead>\n",
       "  <tbody>\n",
       "    <tr>\n",
       "      <th>0</th>\n",
       "      <td>Survey Applications NGS Whole Genome Sequencin...</td>\n",
       "      <td>1</td>\n",
       "    </tr>\n",
       "    <tr>\n",
       "      <th>1</th>\n",
       "      <td>Differential Expression PKD Associated Genes A...</td>\n",
       "      <td>3</td>\n",
       "    </tr>\n",
       "    <tr>\n",
       "      <th>2</th>\n",
       "      <td>Possibility Use Public Microarray Database Ide...</td>\n",
       "      <td>1</td>\n",
       "    </tr>\n",
       "    <tr>\n",
       "      <th>3</th>\n",
       "      <td>CaGe A Web Based Cancer Gene Annotation System...</td>\n",
       "      <td>1</td>\n",
       "    </tr>\n",
       "    <tr>\n",
       "      <th>4</th>\n",
       "      <td>Decreases Casz mRNA siRNA Complex Do Alter Blo...</td>\n",
       "      <td>1</td>\n",
       "    </tr>\n",
       "  </tbody>\n",
       "</table>\n",
       "</div>"
      ],
      "text/plain": [
       "                                                text  type\n",
       "0  Survey Applications NGS Whole Genome Sequencin...     1\n",
       "1  Differential Expression PKD Associated Genes A...     3\n",
       "2  Possibility Use Public Microarray Database Ide...     1\n",
       "3  CaGe A Web Based Cancer Gene Annotation System...     1\n",
       "4  Decreases Casz mRNA siRNA Complex Do Alter Blo...     1"
      ]
     },
     "execution_count": 5,
     "metadata": {},
     "output_type": "execute_result"
    }
   ],
   "source": [
    "data['type'] = data['type'].replace(['protein', 'RNA', 'sequence'], [1, 2, 3])\n",
    "data[:5]"
   ]
  },
  {
   "cell_type": "code",
   "execution_count": 6,
   "metadata": {},
   "outputs": [
    {
     "name": "stdout",
     "output_type": "stream",
     "text": [
      "<class 'pandas.core.frame.DataFrame'>\n",
      "RangeIndex: 301 entries, 0 to 300\n",
      "Data columns (total 2 columns):\n",
      " #   Column  Non-Null Count  Dtype \n",
      "---  ------  --------------  ----- \n",
      " 0   text    301 non-null    object\n",
      " 1   type    301 non-null    int64 \n",
      "dtypes: int64(1), object(1)\n",
      "memory usage: 4.8+ KB\n"
     ]
    }
   ],
   "source": [
    "data.info()"
   ]
  },
  {
   "cell_type": "code",
   "execution_count": 7,
   "metadata": {},
   "outputs": [
    {
     "data": {
      "text/plain": [
       "<matplotlib.axes._subplots.AxesSubplot at 0x22e298e7348>"
      ]
     },
     "execution_count": 7,
     "metadata": {},
     "output_type": "execute_result"
    },
    {
     "data": {
      "image/png": "[encoded data removed]",
      "text/plain": [
       "<Figure size 432x288 with 1 Axes>"
      ]
     },
     "metadata": {
      "needs_background": "light"
     },
     "output_type": "display_data"
    }
   ],
   "source": [
    "data['type'].value_counts().plot(kind='bar')"
   ]
  },
  {
   "cell_type": "code",
   "execution_count": 8,
   "metadata": {},
   "outputs": [
    {
     "name": "stdout",
     "output_type": "stream",
     "text": [
      "   type  count\n",
      "0     1    252\n",
      "1     2      2\n",
      "2     3     47\n"
     ]
    }
   ],
   "source": [
    "print(data.groupby('type').size().reset_index(name='count'))"
   ]
  },
  {
   "cell_type": "code",
   "execution_count": 9,
   "metadata": {},
   "outputs": [
    {
     "name": "stdout",
     "output_type": "stream",
     "text": [
      "The number of text: 301\n",
      "The number of type_label: 301\n"
     ]
    }
   ],
   "source": [
    "# x와 y 분리\n",
    "X_data = data['text']\n",
    "y_data = data['type']\n",
    "print('The number of text: {}'.format(len(X_data)))\n",
    "print('The number of type_label: {}'.format(len(y_data)))"
   ]
  },
  {
   "cell_type": "code",
   "execution_count": 10,
   "metadata": {},
   "outputs": [
    {
     "name": "stdout",
     "output_type": "stream",
     "text": [
      "[[0. 1. 0. 0.]\n",
      " [0. 0. 0. 1.]\n",
      " [0. 1. 0. 0.]\n",
      " ...\n",
      " [0. 1. 0. 0.]\n",
      " [0. 1. 0. 0.]\n",
      " [0. 1. 0. 0.]]\n"
     ]
    }
   ],
   "source": [
    "y_data = np_utils.to_categorical(y_data, nb_classes + 1)  # one-hot vector 변형\n",
    "print(y_data)"
   ]
  },
  {
   "cell_type": "code",
   "execution_count": 11,
   "metadata": {},
   "outputs": [],
   "source": [
    "max_word = 2000\n",
    "\n",
    "tok = Tokenizer(num_words = max_word)\n",
    "tok.fit_on_texts(X_data)"
   ]
  },
  {
   "cell_type": "code",
   "execution_count": 12,
   "metadata": {},
   "outputs": [
    {
     "name": "stdout",
     "output_type": "stream",
     "text": [
      "1621\n",
      "[933, 268, 235, 8, 31, 15, 1094, 266, 461, 11, 39, 324, 2, 15, 1094, 14, 657, 350, 8, 800, 1135, 1, 419, 8, 10, 1193, 263, 1895, 270, 335, 11, 268, 444, 567, 917, 7, 461, 235, 8, 670, 884, 769, 15, 1094, 11, 324, 246, 430, 1326, 1958, 235, 8, 891, 410, 31, 891, 410, 31, 4, 108, 701, 670, 884, 769, 203, 8, 31, 4, 86, 723, 11, 39, 27, 268, 534, 513, 39, 8, 525, 6, 444, 126, 376, 568, 670, 884, 769, 1958, 450, 221, 1959, 4, 444, 153, 1420, 1421, 11, 324, 618, 903, 11, 31, 235, 8, 15, 838, 4, 362, 145, 8, 153, 800, 1532, 183, 740, 235, 8, 447, 1055, 289, 32, 1, 277, 41, 444, 1278, 492, 203, 3, 670, 884, 769, 235, 8, 867, 92, 1, 525, 414, 447, 41, 6, 444, 126, 376, 203, 183, 186, 41, 49, 293, 525, 447, 450, 336, 41, 444, 1420, 1488, 15, 1532, 121, 186, 183, 39, 851, 39, 621, 800, 11, 39, 27, 225, 11, 1056, 18, 17, 1181, 903, 1959, 40, 11, 1045, 48, 741, 11, 39, 27, 225, 11, 263, 34, 411, 213, 22, 8, 294, 22, 8, 7, 436, 776, 9, 106, 294, 5, 490, 22, 8, 134, 1109, 903, 11, 31, 1194, 461, 1123, 11, 31, 113, 1627, 283, 444, 1489, 263, 411, 283, 11, 31, 993, 171, 279, 777, 461, 724, 180, 963, 41, 527, 355, 964, 253, 34, 933, 66, 235, 8, 31, 447, 7, 218, 2, 7, 5, 518, 885, 73, 140, 6, 253, 270, 335, 39, 769, 361, 64, 8, 1327, 933, 8, 800, 1193, 64, 6, 1958, 11, 57, 41, 14, 31, 933, 972, 297, 134, 852, 1123, 636, 43, 2, 965, 105, 567, 550, 66, 550, 637, 652, 933, 400, 1509, 66, 1021, 652, 1509, 1327, 66, 43, 1461, 1290, 43, 1461, 5, 805, 757, 74, 1728, 8, 31, 15, 1094, 8, 800, 411, 1, 88, 48, 1896, 31, 153, 263, 214, 73, 11, 522, 31, 1208, 6, 1182, 1390, 302, 72, 1, 11, 31, 1182, 66, 100, 1291, 604, 1628, 73, 263, 868, 1510, 535, 402, 321, 1312, 1182, 1045, 48, 168, 11, 39, 1826, 106, 11, 39, 221, 306, 33, 671, 597, 11, 1654, 367, 597, 11, 1827, 214, 153, 106, 293, 293, 152, 336, 33, 1328, 1, 209, 63, 189, 891, 410, 336, 31, 419, 1552, 235, 8, 31, 1124, 496, 420, 18, 324, 337, 1151, 290, 444, 411, 1, 1234, 903, 376, 461, 263, 22, 8, 1329, 186, 39, 1, 88, 1960, 411, 1152, 1958, 11, 31, 209, 263, 535, 444, 506, 256, 1, 153, 73, 527, 527, 31, 1208, 1165, 11, 1255, 1629, 1606, 29, 33, 527, 1165, 407, 660, 237, 527, 46, 923, 923, 237, 574, 1862, 421, 168, 407, 545, 316, 6, 237, 1209, 27, 1002, 1674, 1959, 209, 152, 891, 410, 1959, 407, 1654, 1606, 29, 1328, 1828, 153, 203, 235, 8, 670, 884, 769, 1754, 31, 1327, 66, 626, 1327, 68, 8, 1829, 62, 148, 363, 476, 477, 8, 1327, 517, 8, 92, 1327, 478, 8, 31, 1, 478, 8, 31, 77, 209, 1897, 303, 336, 31, 362, 670, 884, 769, 203, 8, 31, 1, 513, 1437, 31, 1153, 411, 235, 478, 8, 31, 670, 884, 769, 203, 8, 31, 534, 513, 414, 8, 117, 49, 116, 110, 68, 31, 152, 189, 361, 1420, 670, 884, 163, 8, 525, 93, 117, 408, 266, 235, 8, 31, 6, 152, 891, 410, 336, 4, 444, 567, 14, 670, 884, 769, 60, 199, 8, 39, 366, 6, 450, 336, 39, 444, 311, 5, 173, 8, 769, 16, 186, 8, 1234, 316, 670, 884, 769, 402, 1183, 1234, 444, 4, 638, 1552, 8, 8, 39, 68, 1068, 8, 1674, 695, 507, 235, 8, 314, 199, 8, 867, 513, 8, 670, 884, 742, 629, 853, 1, 8, 39, 78, 26, 190, 3, 447, 39, 4, 748, 73, 903, 376, 203, 8, 31, 6, 268, 670, 884, 769, 517, 1654, 410, 31, 4, 567, 21, 1, 88, 1153, 203, 8, 11, 31, 31, 40, 11, 1012, 1462, 63, 336, 410, 891, 410, 336, 11, 31, 6, 444, 27, 268, 4, 6, 297, 769, 253, 266, 8, 867, 444, 411, 376, 952, 200, 525, 513, 444, 4, 6, 769, 253, 189, 444, 336, 1057, 769, 316, 778, 4, 618, 93, 111, 152, 5, 543, 4, 769, 1552, 8, 952, 39, 426, 525, 444, 426, 525, 31, 381, 93, 408, 186, 38, 5, 171, 376, 769, 81, 68, 1705, 39, 87, 1960, 203, 8, 769, 6, 297, 769, 1153, 1256, 743, 769, 1153, 624, 376, 577, 743, 4, 1279, 200, 168, 450, 336, 778, 6, 297, 253, 121, 6, 642, 6, 253, 148, 363, 1110, 11, 31, 4, 7, 1012, 670, 884, 769, 203, 8, 31, 21, 241, 260, 74, 1728, 670, 884, 769, 624, 6, 11, 41, 268, 534, 513, 41, 8, 525, 6, 444, 126, 769, 903, 376, 203, 8, 31, 35, 246, 430, 40, 70, 95, 3, 728, 356, 88, 315, 337, 11, 304, 26, 2, 223, 1, 246, 63, 176, 197, 19, 66, 973, 1422, 1755, 48, 741, 4, 362, 10, 18, 324, 1151, 290, 742, 629, 40, 177, 111, 11, 324, 64, 102, 8, 25, 496, 630, 1655, 22, 163, 14, 268, 235, 8, 4, 180, 297, 134, 478, 637, 869, 7, 710, 530, 1151, 290, 1675, 40, 324, 215, 356, 2, 223, 631, 637, 630, 260, 18, 304, 626, 531, 1, 870, 1327, 14, 444, 450, 336, 186, 39, 1421, 11, 304, 121, 56, 92, 41, 953, 587, 1391, 19, 92, 108, 182, 48, 307, 4, 1421, 11, 304, 241, 525, 513, 6, 148, 253, 148, 363, 1110, 1, 613, 1182, 513, 1421, 19, 1755, 1184, 8, 964, 534, 186, 8, 513, 525, 1420, 11, 324, 10, 163, 839, 48, 525, 513, 342, 48, 168, 4, 35, 337, 186, 309, 21, 49, 450, 336, 152, 152, 345, 1420, 629, 186, 39, 6, 253, 253, 8, 66, 450, 1788, 264, 70, 1676, 436, 1579, 303, 336, 31, 4, 1863, 1788, 264, 70, 211, 70, 316, 2, 253, 342, 1864, 39, 230, 867, 450, 336, 1329, 729, 189, 186, 39, 253, 307, 189, 11, 304, 421, 266, 203, 419, 391, 1342, 859, 11, 304, 886, 1235, 40, 115, 6, 48, 741, 4, 65, 581, 14, 69, 762, 233, 1729, 31, 608, 444, 1392, 19, 1755, 97, 95, 115, 143, 723, 567, 1392, 11, 304, 46, 1235, 8, 115, 15, 1094, 2, 15, 1094, 1343, 223, 447, 235, 8, 792, 82, 800, 9, 1330, 73, 749, 480, 229, 95, 3, 11, 451, 411, 793, 183, 3, 923, 1246, 95, 3, 1154, 277, 1, 411, 436, 14, 114, 290, 139, 66, 852, 630, 5, 149, 451, 411, 17, 14, 1151, 10, 15, 1961, 101, 389, 13, 225, 268, 411, 263, 447, 203, 235, 163, 78, 53, 1958, 1896, 277, 31, 6, 444, 1, 153, 362, 203, 2, 246, 203, 92, 163, 303, 336, 31, 444, 14, 838, 15, 79, 3, 309, 450, 336, 41, 79, 186, 3, 5, 173, 587, 183, 3, 203, 3, 78, 53, 48, 741, 183, 39, 851, 41, 6, 444, 17, 362, 492, 83, 289, 46, 15, 260, 763, 4, 277, 39, 444, 1278, 954, 203, 3, 670, 884, 769, 235, 8, 92, 1, 39, 4, 525, 414, 447, 39, 444, 126, 376, 203, 183, 186, 41, 450, 336, 444, 4, 903, 1021, 15, 1532, 27, 1256, 32, 382, 356, 32, 309, 186, 3, 21, 293, 525, 447, 513, 450, 336, 41, 444, 1420, 1488, 15, 1532, 121, 186, 183, 39, 851, 41, 1, 183, 27, 78, 34, 1055, 253, 6, 143, 51, 121, 241, 297, 311, 1463, 1533, 1830, 15, 1094, 113, 1627, 1278, 272, 508, 508, 14, 375, 2, 129, 223, 133, 24, 451, 411, 952, 136, 78, 14, 869, 309, 80, 104, 11, 1490, 52, 5, 268, 419, 447, 15, 27, 361, 362, 918, 8, 27, 134, 1069, 31, 632, 621, 2, 223, 56, 18, 588, 885, 73, 839, 885, 81, 497, 373, 203, 373, 246, 209, 1958, 4, 92, 95, 3, 373, 886, 78, 1830, 27, 145, 8, 800, 25, 447, 769, 1280, 8, 769, 133, 661, 302, 661, 216, 297, 336, 1256, 63, 77, 397, 243, 1789, 1580, 34, 974, 34, 892, 49, 1057, 1756, 1153, 1438, 268, 411, 342, 903, 376, 568, 31, 203, 235, 8, 31, 15, 1094, 1438, 670, 884, 769, 235, 203, 163, 769, 444, 41, 361, 974, 235, 163, 447, 25, 75, 38, 1111, 17, 444, 31, 362, 1112, 11, 324, 309, 450, 336, 186, 8, 1094, 183, 3, 38, 1111, 442, 48, 741, 268, 31, 1865, 647, 10, 885, 73, 297, 134, 419, 82, 1135, 66, 65, 420, 1151, 290, 450, 156, 235, 8, 11, 31, 203, 8, 235, 8, 31, 1236, 1012, 31, 63, 410, 891, 410, 1654, 235, 8, 11, 597, 383, 293, 456, 152, 893, 444, 567, 5, 633, 106, 11, 39, 924, 525, 513, 8, 6, 444, 126, 235, 8, 891, 410, 31, 1012, 1070, 31, 891, 410, 893, 235, 8, 11, 597, 383, 293, 456, 408, 893, 270, 335, 11, 1, 31, 924, 525, 513, 8, 376, 577, 743, 670, 884, 769, 203, 8, 31, 1, 1607, 825, 4, 200, 168, 336, 778, 6, 297, 253, 1292, 6, 6, 253, 1012, 1058, 63, 176, 557, 35, 246, 309, 450, 189, 444, 186, 39, 253, 9, 253, 30, 9, 450, 336, 152, 407, 336, 8, 286, 569, 186, 39, 1, 253, 342, 1864, 39, 230, 867, 450, 336, 1329, 729, 189, 186, 39, 30, 253, 362, 189, 11, 304, 421, 9, 1607, 447, 15, 7, 1896, 1790, 31, 411, 415, 1, 257, 183, 3, 670, 884, 769, 444, 4, 1236, 183, 101, 1094, 309, 444, 39, 183, 39, 851, 186]\n"
     ]
    }
   ],
   "source": [
    "sequences = tok.texts_to_sequences(X_data)\n",
    "print(len(sequences[0]))\n",
    "print(sequences[0])"
   ]
  },
  {
   "cell_type": "code",
   "execution_count": 13,
   "metadata": {},
   "outputs": [
    {
     "name": "stdout",
     "output_type": "stream",
     "text": [
      "max_len : 2936\n"
     ]
    }
   ],
   "source": [
    "X_data = sequences\n",
    "print('max_len : %d' % max(len(l) for l in X_data))"
   ]
  },
  {
   "cell_type": "code",
   "execution_count": 14,
   "metadata": {},
   "outputs": [
    {
     "name": "stdout",
     "output_type": "stream",
     "text": [
      "[[   0    0    0 ...   39  851  186]\n",
      " [   0    0    0 ...  860 1113   15]\n",
      " [   0    0    0 ...  366 1297    3]\n",
      " ...\n",
      " [   0    0    0 ...  794   31  168]\n",
      " [   0    0    0 ... 1067   18  300]\n",
      " [   0    0    0 ... 1088  101  299]]\n",
      "[  0   0   0 ...  39 851 186]\n",
      "2936\n"
     ]
    }
   ],
   "source": [
    "max_len = 2936\n",
    "sequences_matrix = sequence.pad_sequences(sequences, maxlen=max_len)\n",
    "print(sequences_matrix)\n",
    "print(sequences_matrix[0])\n",
    "print(len(sequences_matrix[0]))"
   ]
  },
  {
   "cell_type": "code",
   "execution_count": 15,
   "metadata": {},
   "outputs": [
    {
     "name": "stdout",
     "output_type": "stream",
     "text": [
      "21291\n",
      "(240, 2936)\n",
      "(240, 4)\n"
     ]
    }
   ],
   "source": [
    "print(len(tok.word_index))\n",
    "\n",
    "X_train, X_test, y_train, y_test = train_test_split(sequences_matrix, y_data, test_size=0.2)\n",
    "\n",
    "print(X_train.shape)\n",
    "print(y_train.shape)"
   ]
  },
  {
   "cell_type": "markdown",
   "metadata": {},
   "source": [
    "# LSTM으로 G&I 코퍼스 분류하기"
   ]
  },
  {
   "cell_type": "code",
   "execution_count": 16,
   "metadata": {},
   "outputs": [],
   "source": [
    "model = Sequential()\n",
    "\n",
    "model.add(Embedding(max_word, 64, input_length=max_len))\n",
    "model.add(LSTM(120))\n",
    "model.add(Dropout(0.2))\n",
    "model.add(Dense(50, activation='relu'))\n",
    "model.add(Dropout(0.4))\n",
    "model.add(Dense(4, activation='softmax'))\n",
    "\n",
    "early_stopping = EarlyStopping(monitor='val_loss', mode='min', verbose=1, patience=5)\n",
    "checkpoint = ModelCheckpoint('best_model.h5', monitor=\"val_loss\", mode='max', verbose=1, save_best_only=True)\n",
    "\n",
    "model.compile(loss='categorical_crossentropy', optimizer='adam', metrics=['accuracy'])"
   ]
  },
  {
   "cell_type": "code",
   "execution_count": 17,
   "metadata": {
    "scrolled": true
   },
   "outputs": [
    {
     "name": "stdout",
     "output_type": "stream",
     "text": [
      "Model: \"sequential_1\"\n",
      "_________________________________________________________________\n",
      "Layer (type)                 Output Shape              Param #   \n",
      "=================================================================\n",
      "embedding_1 (Embedding)      (None, 2936, 64)          128000    \n",
      "_________________________________________________________________\n",
      "lstm_1 (LSTM)                (None, 120)               88800     \n",
      "_________________________________________________________________\n",
      "dropout_1 (Dropout)          (None, 120)               0         \n",
      "_________________________________________________________________\n",
      "dense_1 (Dense)              (None, 50)                6050      \n",
      "_________________________________________________________________\n",
      "dropout_2 (Dropout)          (None, 50)                0         \n",
      "_________________________________________________________________\n",
      "dense_2 (Dense)              (None, 4)                 204       \n",
      "=================================================================\n",
      "Total params: 223,054\n",
      "Trainable params: 223,054\n",
      "Non-trainable params: 0\n",
      "_________________________________________________________________\n"
     ]
    }
   ],
   "source": [
    "model.summary()"
   ]
  },
  {
   "cell_type": "code",
   "execution_count": 18,
   "metadata": {},
   "outputs": [
    {
     "name": "stdout",
     "output_type": "stream",
     "text": [
      "WARNING:tensorflow:From C:\\Users\\sua91\\anaconda3\\lib\\site-packages\\keras\\backend\\tensorflow_backend.py:422: The name tf.global_variables is deprecated. Please use tf.compat.v1.global_variables instead.\n",
      "\n",
      "Train on 192 samples, validate on 48 samples\n",
      "Epoch 1/20\n",
      "192/192 [==============================] - 26s 136ms/step - loss: 1.3927 - accuracy: 0.0990 - val_loss: 1.3819 - val_accuracy: 0.5417\n",
      "\n",
      "Epoch 00001: val_loss improved from -inf to 1.38190, saving model to best_model.h5\n",
      "Epoch 2/20\n",
      "192/192 [==============================] - 29s 149ms/step - loss: 1.3816 - accuracy: 0.4479 - val_loss: 1.3740 - val_accuracy: 0.8333\n",
      "\n",
      "Epoch 00002: val_loss did not improve from 1.38190\n",
      "Epoch 3/20\n",
      "192/192 [==============================] - 34s 175ms/step - loss: 1.3722 - accuracy: 0.7812 - val_loss: 1.3648 - val_accuracy: 0.8125\n",
      "\n",
      "Epoch 00003: val_loss did not improve from 1.38190\n",
      "Epoch 4/20\n",
      "192/192 [==============================] - 32s 165ms/step - loss: 1.3629 - accuracy: 0.8073 - val_loss: 1.3535 - val_accuracy: 0.8125\n",
      "\n",
      "Epoch 00004: val_loss did not improve from 1.38190\n",
      "Epoch 5/20\n",
      "192/192 [==============================] - 34s 177ms/step - loss: 1.3497 - accuracy: 0.8281 - val_loss: 1.3387 - val_accuracy: 0.8125\n",
      "\n",
      "Epoch 00005: val_loss did not improve from 1.38190\n",
      "Epoch 6/20\n",
      "192/192 [==============================] - 40s 208ms/step - loss: 1.3329 - accuracy: 0.8177 - val_loss: 1.3191 - val_accuracy: 0.8125\n",
      "\n",
      "Epoch 00006: val_loss did not improve from 1.38190\n",
      "Epoch 7/20\n",
      "192/192 [==============================] - 40s 207ms/step - loss: 1.3119 - accuracy: 0.8385 - val_loss: 1.2915 - val_accuracy: 0.8125\n",
      "\n",
      "Epoch 00007: val_loss did not improve from 1.38190\n",
      "Epoch 8/20\n",
      "192/192 [==============================] - 43s 222ms/step - loss: 1.2791 - accuracy: 0.8385 - val_loss: 1.2490 - val_accuracy: 0.8125\n",
      "\n",
      "Epoch 00008: val_loss did not improve from 1.38190\n",
      "Epoch 9/20\n",
      "192/192 [==============================] - 43s 226ms/step - loss: 1.2343 - accuracy: 0.8333 - val_loss: 1.1751 - val_accuracy: 0.8125\n",
      "\n",
      "Epoch 00009: val_loss did not improve from 1.38190\n",
      "Epoch 10/20\n",
      "192/192 [==============================] - 47s 246ms/step - loss: 1.1502 - accuracy: 0.8281 - val_loss: 1.0203 - val_accuracy: 0.8125\n",
      "\n",
      "Epoch 00010: val_loss did not improve from 1.38190\n",
      "Epoch 11/20\n",
      "192/192 [==============================] - 51s 263ms/step - loss: 0.9871 - accuracy: 0.8281 - val_loss: 0.7381 - val_accuracy: 0.8125\n",
      "\n",
      "Epoch 00011: val_loss did not improve from 1.38190\n",
      "Epoch 12/20\n",
      "192/192 [==============================] - 51s 266ms/step - loss: 0.7465 - accuracy: 0.8281 - val_loss: 0.6754 - val_accuracy: 0.8125\n",
      "\n",
      "Epoch 00012: val_loss did not improve from 1.38190\n",
      "Epoch 13/20\n",
      "192/192 [==============================] - 47s 244ms/step - loss: 0.6799 - accuracy: 0.8281 - val_loss: 0.7030 - val_accuracy: 0.8125\n",
      "\n",
      "Epoch 00013: val_loss did not improve from 1.38190\n",
      "Epoch 14/20\n",
      "192/192 [==============================] - 45s 237ms/step - loss: 0.6652 - accuracy: 0.8333 - val_loss: 0.7100 - val_accuracy: 0.8125\n",
      "\n",
      "Epoch 00014: val_loss did not improve from 1.38190\n",
      "Epoch 15/20\n",
      "192/192 [==============================] - 45s 236ms/step - loss: 0.6766 - accuracy: 0.8385 - val_loss: 0.6914 - val_accuracy: 0.8125\n",
      "\n",
      "Epoch 00015: val_loss did not improve from 1.38190\n",
      "Epoch 16/20\n",
      "192/192 [==============================] - 46s 239ms/step - loss: 0.6443 - accuracy: 0.8385 - val_loss: 0.6567 - val_accuracy: 0.8125\n",
      "\n",
      "Epoch 00016: val_loss did not improve from 1.38190\n",
      "Epoch 17/20\n",
      "192/192 [==============================] - 50s 258ms/step - loss: 0.7441 - accuracy: 0.8229 - val_loss: 0.6158 - val_accuracy: 0.8125\n",
      "\n",
      "Epoch 00017: val_loss did not improve from 1.38190\n",
      "Epoch 18/20\n",
      "192/192 [==============================] - 57s 295ms/step - loss: 0.6930 - accuracy: 0.8073 - val_loss: 0.5783 - val_accuracy: 0.8125\n",
      "\n",
      "Epoch 00018: val_loss did not improve from 1.38190\n",
      "Epoch 19/20\n",
      "192/192 [==============================] - 58s 304ms/step - loss: 0.6383 - accuracy: 0.8125 - val_loss: 0.5534 - val_accuracy: 0.8125\n",
      "\n",
      "Epoch 00019: val_loss did not improve from 1.38190\n",
      "Epoch 20/20\n",
      "192/192 [==============================] - 62s 323ms/step - loss: 0.5800 - accuracy: 0.7917 - val_loss: 0.5348 - val_accuracy: 0.8125\n",
      "\n",
      "Epoch 00020: val_loss did not improve from 1.38190\n"
     ]
    }
   ],
   "source": [
    "history = model.fit(X_train, y_train, batch_size=256, epochs=20, callbacks=[checkpoint, early_stopping], validation_split=0.2)"
   ]
  },
  {
   "cell_type": "code",
   "execution_count": 19,
   "metadata": {},
   "outputs": [
    {
     "name": "stdout",
     "output_type": "stream",
     "text": [
      "61/61 [==============================] - 18s 302ms/step\n",
      "accuracy : 0.8525\n"
     ]
    }
   ],
   "source": [
    "print(\"accuracy : %.4f\" % (model.evaluate(X_test, y_test)[1]))"
   ]
  },
  {
   "cell_type": "code",
   "execution_count": 20,
   "metadata": {},
   "outputs": [
    {
     "data": {
      "image/png": "[encoded data removed]",
      "text/plain": [
       "<Figure size 432x288 with 1 Axes>"
      ]
     },
     "metadata": {
      "needs_background": "light"
     },
     "output_type": "display_data"
    }
   ],
   "source": [
    "y_vloss = history.history['val_loss']\n",
    "y_loss = history.history['loss']\n",
    "\n",
    "x_len = np.arange(len(y_loss))\n",
    "\n",
    "plt.plot(x_len, y_vloss, marker='.', c='red', label='val_set_loss')\n",
    "plt.plot(x_len, y_loss, marker='.', c='blue', label='train_set_loss')\n",
    "plt.legend()\n",
    "plt.xlabel('epochs')\n",
    "plt.ylabel('loss')\n",
    "plt.grid()\n",
    "plt.show()"
   ]
  },
  {
   "cell_type": "code",
   "execution_count": null,
   "metadata": {},
   "outputs": [],
   "source": []
  }
 ],
 "metadata": {
  "kernelspec": {
   "display_name": "Python 3",
   "language": "python",
   "name": "python3"
  },
  "language_info": {
   "codemirror_mode": {
    "name": "ipython",
    "version": 3
   },
   "file_extension": ".py",
   "mimetype": "text/x-python",
   "name": "python",
   "nbconvert_exporter": "python",
   "pygments_lexer": "ipython3",
   "version": "3.7.7"
  }
 },
 "nbformat": 4,
 "nbformat_minor": 4
}
